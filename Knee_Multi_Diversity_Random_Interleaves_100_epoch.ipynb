{
  "cells": [
    {
      "cell_type": "code",
      "execution_count": null,
      "id": "7a55b1f0-82ab-4922-b781-625766c4e7b9",
      "metadata": {
        "id": "7a55b1f0-82ab-4922-b781-625766c4e7b9",
        "outputId": "2c43eaf9-9f0f-4521-f5f5-201d97b0e7df"
      },
      "outputs": [
        {
          "name": "stdout",
          "output_type": "stream",
          "text": [
            "Requirement already satisfied: pydicom in ./lib/python3.10/site-packages (2.4.4)\n",
            "Requirement already satisfied: nibabel in ./lib/python3.10/site-packages (5.2.0)\n",
            "Requirement already satisfied: numpy in ./lib/python3.10/site-packages (1.26.4)\n",
            "Requirement already satisfied: torch in ./lib/python3.10/site-packages (2.2.0)\n",
            "Requirement already satisfied: torchvision in ./lib/python3.10/site-packages (0.17.0)\n",
            "Requirement already satisfied: segmentation-models-pytorch in ./lib/python3.10/site-packages (0.3.3)\n",
            "Requirement already satisfied: scikit-learn in ./lib/python3.10/site-packages (1.4.0)\n",
            "Requirement already satisfied: packaging>=17 in ./lib/python3.10/site-packages (from nibabel) (23.2)\n",
            "Requirement already satisfied: nvidia-cuda-nvrtc-cu12==12.1.105 in ./lib/python3.10/site-packages (from torch) (12.1.105)\n",
            "Requirement already satisfied: nvidia-cuda-cupti-cu12==12.1.105 in ./lib/python3.10/site-packages (from torch) (12.1.105)\n",
            "Requirement already satisfied: nvidia-cusolver-cu12==11.4.5.107 in ./lib/python3.10/site-packages (from torch) (11.4.5.107)\n",
            "Requirement already satisfied: networkx in ./lib/python3.10/site-packages (from torch) (3.2.1)\n",
            "Requirement already satisfied: nvidia-cufft-cu12==11.0.2.54 in ./lib/python3.10/site-packages (from torch) (11.0.2.54)\n",
            "Requirement already satisfied: nvidia-curand-cu12==10.3.2.106 in ./lib/python3.10/site-packages (from torch) (10.3.2.106)\n",
            "Requirement already satisfied: nvidia-nccl-cu12==2.19.3 in ./lib/python3.10/site-packages (from torch) (2.19.3)\n",
            "Requirement already satisfied: filelock in ./lib/python3.10/site-packages (from torch) (3.13.1)\n",
            "Requirement already satisfied: nvidia-cusparse-cu12==12.1.0.106 in ./lib/python3.10/site-packages (from torch) (12.1.0.106)\n",
            "Requirement already satisfied: typing-extensions>=4.8.0 in ./lib/python3.10/site-packages (from torch) (4.9.0)\n",
            "Requirement already satisfied: fsspec in ./lib/python3.10/site-packages (from torch) (2024.2.0)\n",
            "Requirement already satisfied: nvidia-nvtx-cu12==12.1.105 in ./lib/python3.10/site-packages (from torch) (12.1.105)\n",
            "Requirement already satisfied: triton==2.2.0 in ./lib/python3.10/site-packages (from torch) (2.2.0)\n",
            "Requirement already satisfied: sympy in ./lib/python3.10/site-packages (from torch) (1.12)\n",
            "Requirement already satisfied: nvidia-cudnn-cu12==8.9.2.26 in ./lib/python3.10/site-packages (from torch) (8.9.2.26)\n",
            "Requirement already satisfied: nvidia-cuda-runtime-cu12==12.1.105 in ./lib/python3.10/site-packages (from torch) (12.1.105)\n",
            "Requirement already satisfied: jinja2 in ./lib/python3.10/site-packages (from torch) (3.1.3)\n",
            "Requirement already satisfied: nvidia-cublas-cu12==12.1.3.1 in ./lib/python3.10/site-packages (from torch) (12.1.3.1)\n",
            "Requirement already satisfied: nvidia-nvjitlink-cu12 in ./lib/python3.10/site-packages (from nvidia-cusolver-cu12==11.4.5.107->torch) (12.3.101)\n",
            "Requirement already satisfied: pillow!=8.3.*,>=5.3.0 in ./lib/python3.10/site-packages (from torchvision) (10.2.0)\n",
            "Requirement already satisfied: requests in ./lib/python3.10/site-packages (from torchvision) (2.31.0)\n",
            "Requirement already satisfied: efficientnet-pytorch==0.7.1 in ./lib/python3.10/site-packages (from segmentation-models-pytorch) (0.7.1)\n",
            "Requirement already satisfied: tqdm in ./lib/python3.10/site-packages (from segmentation-models-pytorch) (4.66.2)\n",
            "Requirement already satisfied: pretrainedmodels==0.7.4 in ./lib/python3.10/site-packages (from segmentation-models-pytorch) (0.7.4)\n",
            "Requirement already satisfied: timm==0.9.2 in ./lib/python3.10/site-packages (from segmentation-models-pytorch) (0.9.2)\n",
            "Requirement already satisfied: munch in ./lib/python3.10/site-packages (from pretrainedmodels==0.7.4->segmentation-models-pytorch) (4.0.0)\n",
            "Requirement already satisfied: huggingface-hub in ./lib/python3.10/site-packages (from timm==0.9.2->segmentation-models-pytorch) (0.20.3)\n",
            "Requirement already satisfied: pyyaml in ./lib/python3.10/site-packages (from timm==0.9.2->segmentation-models-pytorch) (6.0.1)\n",
            "Requirement already satisfied: safetensors in ./lib/python3.10/site-packages (from timm==0.9.2->segmentation-models-pytorch) (0.4.2)\n",
            "Requirement already satisfied: threadpoolctl>=2.0.0 in ./lib/python3.10/site-packages (from scikit-learn) (3.2.0)\n",
            "Requirement already satisfied: joblib>=1.2.0 in ./lib/python3.10/site-packages (from scikit-learn) (1.3.2)\n",
            "Requirement already satisfied: scipy>=1.6.0 in ./lib/python3.10/site-packages (from scikit-learn) (1.12.0)\n",
            "Requirement already satisfied: MarkupSafe>=2.0 in ./lib/python3.10/site-packages (from jinja2->torch) (2.1.5)\n",
            "Requirement already satisfied: charset-normalizer<4,>=2 in ./lib/python3.10/site-packages (from requests->torchvision) (3.3.2)\n",
            "Requirement already satisfied: idna<4,>=2.5 in ./lib/python3.10/site-packages (from requests->torchvision) (3.6)\n",
            "Requirement already satisfied: urllib3<3,>=1.21.1 in ./lib/python3.10/site-packages (from requests->torchvision) (2.2.0)\n",
            "Requirement already satisfied: certifi>=2017.4.17 in ./lib/python3.10/site-packages (from requests->torchvision) (2024.2.2)\n",
            "Requirement already satisfied: mpmath>=0.19 in ./lib/python3.10/site-packages (from sympy->torch) (1.3.0)\n",
            "Note: you may need to restart the kernel to use updated packages.\n"
          ]
        }
      ],
      "source": [
        "pip install pydicom nibabel numpy torch torchvision segmentation-models-pytorch scikit-learn"
      ]
    },
    {
      "cell_type": "code",
      "execution_count": null,
      "id": "c72e24cf-4548-4014-b732-434bb08f3b99",
      "metadata": {
        "id": "c72e24cf-4548-4014-b732-434bb08f3b99",
        "outputId": "a72ffaae-55b8-403c-be6d-57c094561d32"
      },
      "outputs": [
        {
          "name": "stdout",
          "output_type": "stream",
          "text": [
            "Requirement already satisfied: albumentations in ./lib/python3.10/site-packages (1.3.1)\n",
            "Requirement already satisfied: scipy>=1.1.0 in ./lib/python3.10/site-packages (from albumentations) (1.12.0)\n",
            "Requirement already satisfied: opencv-python-headless>=4.1.1 in ./lib/python3.10/site-packages (from albumentations) (4.9.0.80)\n",
            "Requirement already satisfied: numpy>=1.11.1 in ./lib/python3.10/site-packages (from albumentations) (1.26.4)\n",
            "Requirement already satisfied: qudida>=0.0.4 in ./lib/python3.10/site-packages (from albumentations) (0.0.4)\n",
            "Requirement already satisfied: scikit-image>=0.16.1 in ./lib/python3.10/site-packages (from albumentations) (0.22.0)\n",
            "Requirement already satisfied: PyYAML in ./lib/python3.10/site-packages (from albumentations) (6.0.1)\n",
            "Requirement already satisfied: scikit-learn>=0.19.1 in ./lib/python3.10/site-packages (from qudida>=0.0.4->albumentations) (1.4.0)\n",
            "Requirement already satisfied: typing-extensions in ./lib/python3.10/site-packages (from qudida>=0.0.4->albumentations) (4.9.0)\n",
            "Requirement already satisfied: packaging>=21 in ./lib/python3.10/site-packages (from scikit-image>=0.16.1->albumentations) (23.2)\n",
            "Requirement already satisfied: pillow>=9.0.1 in ./lib/python3.10/site-packages (from scikit-image>=0.16.1->albumentations) (10.2.0)\n",
            "Requirement already satisfied: tifffile>=2022.8.12 in ./lib/python3.10/site-packages (from scikit-image>=0.16.1->albumentations) (2024.2.12)\n",
            "Requirement already satisfied: imageio>=2.27 in ./lib/python3.10/site-packages (from scikit-image>=0.16.1->albumentations) (2.34.0)\n",
            "Requirement already satisfied: lazy_loader>=0.3 in ./lib/python3.10/site-packages (from scikit-image>=0.16.1->albumentations) (0.3)\n",
            "Requirement already satisfied: networkx>=2.8 in ./lib/python3.10/site-packages (from scikit-image>=0.16.1->albumentations) (3.2.1)\n",
            "Requirement already satisfied: joblib>=1.2.0 in ./lib/python3.10/site-packages (from scikit-learn>=0.19.1->qudida>=0.0.4->albumentations) (1.3.2)\n",
            "Requirement already satisfied: threadpoolctl>=2.0.0 in ./lib/python3.10/site-packages (from scikit-learn>=0.19.1->qudida>=0.0.4->albumentations) (3.2.0)\n",
            "Note: you may need to restart the kernel to use updated packages.\n"
          ]
        }
      ],
      "source": [
        "pip install albumentations"
      ]
    },
    {
      "cell_type": "code",
      "execution_count": null,
      "id": "259e95b5-55e5-49b0-846d-4520caffa2e1",
      "metadata": {
        "id": "259e95b5-55e5-49b0-846d-4520caffa2e1",
        "outputId": "f092a40d-664a-4cfe-f419-ea10209e4757"
      },
      "outputs": [
        {
          "name": "stdout",
          "output_type": "stream",
          "text": [
            "Requirement already satisfied: pandas in ./lib/python3.10/site-packages (2.2.0)\n",
            "Requirement already satisfied: python-dateutil>=2.8.2 in ./lib/python3.10/site-packages (from pandas) (2.8.2)\n",
            "Requirement already satisfied: pytz>=2020.1 in ./lib/python3.10/site-packages (from pandas) (2024.1)\n",
            "Requirement already satisfied: tzdata>=2022.7 in ./lib/python3.10/site-packages (from pandas) (2024.1)\n",
            "Requirement already satisfied: numpy<2,>=1.22.4 in ./lib/python3.10/site-packages (from pandas) (1.26.4)\n",
            "Requirement already satisfied: six>=1.5 in ./lib/python3.10/site-packages (from python-dateutil>=2.8.2->pandas) (1.16.0)\n",
            "Note: you may need to restart the kernel to use updated packages.\n"
          ]
        }
      ],
      "source": [
        "pip install pandas"
      ]
    },
    {
      "cell_type": "code",
      "execution_count": null,
      "id": "0004d78c-3260-4376-9f89-6601f0f197a9",
      "metadata": {
        "id": "0004d78c-3260-4376-9f89-6601f0f197a9",
        "outputId": "84d663e2-f326-4b07-9985-2947c5ea4696"
      },
      "outputs": [
        {
          "name": "stderr",
          "output_type": "stream",
          "text": [
            "/tmp/ipykernel_2102394/513769511.py:84: DeprecationWarning: The truth value of an empty array is ambiguous. Returning False, but in future this will result in an error. Use `array.size > 0` to check that an array is not empty.\n",
            "  racegender = racegender_info[0] if racegender_info and racegender_info[0] in racegenders else None\n",
            "/home/ealam/MDCL/lib/python3.10/site-packages/pydicom/charset.py:743: UserWarning: Incorrect value for Specific Character Set 'ISO_2022_IR_6' - assuming 'ISO 2022 IR 6'\n",
            "  _warn_about_invalid_encoding(encoding, patched)\n"
          ]
        },
        {
          "name": "stdout",
          "output_type": "stream",
          "text": [
            "Epoch [1/100] - Train IoU: 0.0691 - Validation IoU: 0.0603\n"
          ]
        },
        {
          "name": "stderr",
          "output_type": "stream",
          "text": [
            "/home/ealam/MDCL/lib/python3.10/site-packages/pydicom/charset.py:743: UserWarning: Incorrect value for Specific Character Set 'ISO_2022_IR_6' - assuming 'ISO 2022 IR 6'\n",
            "  _warn_about_invalid_encoding(encoding, patched)\n"
          ]
        },
        {
          "name": "stdout",
          "output_type": "stream",
          "text": [
            "Epoch [2/100] - Train IoU: 0.1797 - Validation IoU: 0.2046\n"
          ]
        },
        {
          "name": "stderr",
          "output_type": "stream",
          "text": [
            "/home/ealam/MDCL/lib/python3.10/site-packages/pydicom/charset.py:743: UserWarning: Incorrect value for Specific Character Set 'ISO_2022_IR_6' - assuming 'ISO 2022 IR 6'\n",
            "  _warn_about_invalid_encoding(encoding, patched)\n"
          ]
        },
        {
          "name": "stdout",
          "output_type": "stream",
          "text": [
            "Epoch [3/100] - Train IoU: 0.3328 - Validation IoU: 0.3787\n"
          ]
        },
        {
          "name": "stderr",
          "output_type": "stream",
          "text": [
            "/home/ealam/MDCL/lib/python3.10/site-packages/pydicom/charset.py:743: UserWarning: Incorrect value for Specific Character Set 'ISO_2022_IR_6' - assuming 'ISO 2022 IR 6'\n",
            "  _warn_about_invalid_encoding(encoding, patched)\n"
          ]
        },
        {
          "name": "stdout",
          "output_type": "stream",
          "text": [
            "Epoch [4/100] - Train IoU: 0.4616 - Validation IoU: 0.5220\n"
          ]
        },
        {
          "name": "stderr",
          "output_type": "stream",
          "text": [
            "/home/ealam/MDCL/lib/python3.10/site-packages/pydicom/charset.py:743: UserWarning: Incorrect value for Specific Character Set 'ISO_2022_IR_6' - assuming 'ISO 2022 IR 6'\n",
            "  _warn_about_invalid_encoding(encoding, patched)\n"
          ]
        },
        {
          "name": "stdout",
          "output_type": "stream",
          "text": [
            "Epoch [5/100] - Train IoU: 0.5706 - Validation IoU: 0.6447\n"
          ]
        },
        {
          "name": "stderr",
          "output_type": "stream",
          "text": [
            "/home/ealam/MDCL/lib/python3.10/site-packages/pydicom/charset.py:743: UserWarning: Incorrect value for Specific Character Set 'ISO_2022_IR_6' - assuming 'ISO 2022 IR 6'\n",
            "  _warn_about_invalid_encoding(encoding, patched)\n"
          ]
        },
        {
          "name": "stdout",
          "output_type": "stream",
          "text": [
            "Epoch [6/100] - Train IoU: 0.6513 - Validation IoU: 0.6842\n"
          ]
        },
        {
          "name": "stderr",
          "output_type": "stream",
          "text": [
            "/home/ealam/MDCL/lib/python3.10/site-packages/pydicom/charset.py:743: UserWarning: Incorrect value for Specific Character Set 'ISO_2022_IR_6' - assuming 'ISO 2022 IR 6'\n",
            "  _warn_about_invalid_encoding(encoding, patched)\n"
          ]
        },
        {
          "name": "stdout",
          "output_type": "stream",
          "text": [
            "Epoch [7/100] - Train IoU: 0.7092 - Validation IoU: 0.7245\n"
          ]
        },
        {
          "name": "stderr",
          "output_type": "stream",
          "text": [
            "/home/ealam/MDCL/lib/python3.10/site-packages/pydicom/charset.py:743: UserWarning: Incorrect value for Specific Character Set 'ISO_2022_IR_6' - assuming 'ISO 2022 IR 6'\n",
            "  _warn_about_invalid_encoding(encoding, patched)\n"
          ]
        },
        {
          "name": "stdout",
          "output_type": "stream",
          "text": [
            "Epoch [8/100] - Train IoU: 0.7512 - Validation IoU: 0.7456\n"
          ]
        },
        {
          "name": "stderr",
          "output_type": "stream",
          "text": [
            "/home/ealam/MDCL/lib/python3.10/site-packages/pydicom/charset.py:743: UserWarning: Incorrect value for Specific Character Set 'ISO_2022_IR_6' - assuming 'ISO 2022 IR 6'\n",
            "  _warn_about_invalid_encoding(encoding, patched)\n"
          ]
        },
        {
          "name": "stdout",
          "output_type": "stream",
          "text": [
            "Epoch [9/100] - Train IoU: 0.7812 - Validation IoU: 0.7629\n"
          ]
        },
        {
          "name": "stderr",
          "output_type": "stream",
          "text": [
            "/home/ealam/MDCL/lib/python3.10/site-packages/pydicom/charset.py:743: UserWarning: Incorrect value for Specific Character Set 'ISO_2022_IR_6' - assuming 'ISO 2022 IR 6'\n",
            "  _warn_about_invalid_encoding(encoding, patched)\n"
          ]
        },
        {
          "name": "stdout",
          "output_type": "stream",
          "text": [
            "Epoch [10/100] - Train IoU: 0.8097 - Validation IoU: 0.7767\n"
          ]
        },
        {
          "name": "stderr",
          "output_type": "stream",
          "text": [
            "/home/ealam/MDCL/lib/python3.10/site-packages/pydicom/charset.py:743: UserWarning: Incorrect value for Specific Character Set 'ISO_2022_IR_6' - assuming 'ISO 2022 IR 6'\n",
            "  _warn_about_invalid_encoding(encoding, patched)\n"
          ]
        },
        {
          "name": "stdout",
          "output_type": "stream",
          "text": [
            "Epoch [11/100] - Train IoU: 0.8386 - Validation IoU: 0.8033\n"
          ]
        },
        {
          "name": "stderr",
          "output_type": "stream",
          "text": [
            "/home/ealam/MDCL/lib/python3.10/site-packages/pydicom/charset.py:743: UserWarning: Incorrect value for Specific Character Set 'ISO_2022_IR_6' - assuming 'ISO 2022 IR 6'\n",
            "  _warn_about_invalid_encoding(encoding, patched)\n"
          ]
        },
        {
          "name": "stdout",
          "output_type": "stream",
          "text": [
            "Epoch [12/100] - Train IoU: 0.8753 - Validation IoU: 0.8165\n"
          ]
        },
        {
          "name": "stderr",
          "output_type": "stream",
          "text": [
            "/home/ealam/MDCL/lib/python3.10/site-packages/pydicom/charset.py:743: UserWarning: Incorrect value for Specific Character Set 'ISO_2022_IR_6' - assuming 'ISO 2022 IR 6'\n",
            "  _warn_about_invalid_encoding(encoding, patched)\n"
          ]
        },
        {
          "name": "stdout",
          "output_type": "stream",
          "text": [
            "Epoch [13/100] - Train IoU: 0.9030 - Validation IoU: 0.8316\n"
          ]
        },
        {
          "name": "stderr",
          "output_type": "stream",
          "text": [
            "/home/ealam/MDCL/lib/python3.10/site-packages/pydicom/charset.py:743: UserWarning: Incorrect value for Specific Character Set 'ISO_2022_IR_6' - assuming 'ISO 2022 IR 6'\n",
            "  _warn_about_invalid_encoding(encoding, patched)\n"
          ]
        },
        {
          "name": "stdout",
          "output_type": "stream",
          "text": [
            "Epoch [14/100] - Train IoU: 0.9150 - Validation IoU: 0.8337\n"
          ]
        },
        {
          "name": "stderr",
          "output_type": "stream",
          "text": [
            "/home/ealam/MDCL/lib/python3.10/site-packages/pydicom/charset.py:743: UserWarning: Incorrect value for Specific Character Set 'ISO_2022_IR_6' - assuming 'ISO 2022 IR 6'\n",
            "  _warn_about_invalid_encoding(encoding, patched)\n"
          ]
        },
        {
          "name": "stdout",
          "output_type": "stream",
          "text": [
            "Epoch [15/100] - Train IoU: 0.9226 - Validation IoU: 0.8482\n"
          ]
        },
        {
          "name": "stderr",
          "output_type": "stream",
          "text": [
            "/home/ealam/MDCL/lib/python3.10/site-packages/pydicom/charset.py:743: UserWarning: Incorrect value for Specific Character Set 'ISO_2022_IR_6' - assuming 'ISO 2022 IR 6'\n",
            "  _warn_about_invalid_encoding(encoding, patched)\n"
          ]
        },
        {
          "name": "stdout",
          "output_type": "stream",
          "text": [
            "Epoch [16/100] - Train IoU: 0.9276 - Validation IoU: 0.8373\n"
          ]
        },
        {
          "name": "stderr",
          "output_type": "stream",
          "text": [
            "/home/ealam/MDCL/lib/python3.10/site-packages/pydicom/charset.py:743: UserWarning: Incorrect value for Specific Character Set 'ISO_2022_IR_6' - assuming 'ISO 2022 IR 6'\n",
            "  _warn_about_invalid_encoding(encoding, patched)\n"
          ]
        },
        {
          "name": "stdout",
          "output_type": "stream",
          "text": [
            "Epoch [17/100] - Train IoU: 0.9331 - Validation IoU: 0.8468\n"
          ]
        },
        {
          "name": "stderr",
          "output_type": "stream",
          "text": [
            "/home/ealam/MDCL/lib/python3.10/site-packages/pydicom/charset.py:743: UserWarning: Incorrect value for Specific Character Set 'ISO_2022_IR_6' - assuming 'ISO 2022 IR 6'\n",
            "  _warn_about_invalid_encoding(encoding, patched)\n"
          ]
        },
        {
          "name": "stdout",
          "output_type": "stream",
          "text": [
            "Epoch [18/100] - Train IoU: 0.9371 - Validation IoU: 0.8508\n"
          ]
        },
        {
          "name": "stderr",
          "output_type": "stream",
          "text": [
            "/home/ealam/MDCL/lib/python3.10/site-packages/pydicom/charset.py:743: UserWarning: Incorrect value for Specific Character Set 'ISO_2022_IR_6' - assuming 'ISO 2022 IR 6'\n",
            "  _warn_about_invalid_encoding(encoding, patched)\n"
          ]
        },
        {
          "name": "stdout",
          "output_type": "stream",
          "text": [
            "Epoch [19/100] - Train IoU: 0.9397 - Validation IoU: 0.8520\n"
          ]
        },
        {
          "name": "stderr",
          "output_type": "stream",
          "text": [
            "/home/ealam/MDCL/lib/python3.10/site-packages/pydicom/charset.py:743: UserWarning: Incorrect value for Specific Character Set 'ISO_2022_IR_6' - assuming 'ISO 2022 IR 6'\n",
            "  _warn_about_invalid_encoding(encoding, patched)\n"
          ]
        },
        {
          "name": "stdout",
          "output_type": "stream",
          "text": [
            "Epoch [20/100] - Train IoU: 0.9429 - Validation IoU: 0.8558\n"
          ]
        },
        {
          "name": "stderr",
          "output_type": "stream",
          "text": [
            "/home/ealam/MDCL/lib/python3.10/site-packages/pydicom/charset.py:743: UserWarning: Incorrect value for Specific Character Set 'ISO_2022_IR_6' - assuming 'ISO 2022 IR 6'\n",
            "  _warn_about_invalid_encoding(encoding, patched)\n"
          ]
        },
        {
          "name": "stdout",
          "output_type": "stream",
          "text": [
            "Epoch [21/100] - Train IoU: 0.9442 - Validation IoU: 0.8581\n"
          ]
        },
        {
          "name": "stderr",
          "output_type": "stream",
          "text": [
            "/home/ealam/MDCL/lib/python3.10/site-packages/pydicom/charset.py:743: UserWarning: Incorrect value for Specific Character Set 'ISO_2022_IR_6' - assuming 'ISO 2022 IR 6'\n",
            "  _warn_about_invalid_encoding(encoding, patched)\n"
          ]
        },
        {
          "name": "stdout",
          "output_type": "stream",
          "text": [
            "Epoch [22/100] - Train IoU: 0.9474 - Validation IoU: 0.8574\n"
          ]
        },
        {
          "name": "stderr",
          "output_type": "stream",
          "text": [
            "/home/ealam/MDCL/lib/python3.10/site-packages/pydicom/charset.py:743: UserWarning: Incorrect value for Specific Character Set 'ISO_2022_IR_6' - assuming 'ISO 2022 IR 6'\n",
            "  _warn_about_invalid_encoding(encoding, patched)\n"
          ]
        },
        {
          "name": "stdout",
          "output_type": "stream",
          "text": [
            "Epoch [23/100] - Train IoU: 0.9483 - Validation IoU: 0.8525\n"
          ]
        },
        {
          "name": "stderr",
          "output_type": "stream",
          "text": [
            "/home/ealam/MDCL/lib/python3.10/site-packages/pydicom/charset.py:743: UserWarning: Incorrect value for Specific Character Set 'ISO_2022_IR_6' - assuming 'ISO 2022 IR 6'\n",
            "  _warn_about_invalid_encoding(encoding, patched)\n"
          ]
        },
        {
          "name": "stdout",
          "output_type": "stream",
          "text": [
            "Epoch [24/100] - Train IoU: 0.9507 - Validation IoU: 0.8613\n"
          ]
        },
        {
          "name": "stderr",
          "output_type": "stream",
          "text": [
            "/home/ealam/MDCL/lib/python3.10/site-packages/pydicom/charset.py:743: UserWarning: Incorrect value for Specific Character Set 'ISO_2022_IR_6' - assuming 'ISO 2022 IR 6'\n",
            "  _warn_about_invalid_encoding(encoding, patched)\n"
          ]
        },
        {
          "name": "stdout",
          "output_type": "stream",
          "text": [
            "Epoch [25/100] - Train IoU: 0.9518 - Validation IoU: 0.8626\n"
          ]
        },
        {
          "name": "stderr",
          "output_type": "stream",
          "text": [
            "/home/ealam/MDCL/lib/python3.10/site-packages/pydicom/charset.py:743: UserWarning: Incorrect value for Specific Character Set 'ISO_2022_IR_6' - assuming 'ISO 2022 IR 6'\n",
            "  _warn_about_invalid_encoding(encoding, patched)\n"
          ]
        },
        {
          "name": "stdout",
          "output_type": "stream",
          "text": [
            "Epoch [26/100] - Train IoU: 0.9533 - Validation IoU: 0.8583\n"
          ]
        },
        {
          "name": "stderr",
          "output_type": "stream",
          "text": [
            "/home/ealam/MDCL/lib/python3.10/site-packages/pydicom/charset.py:743: UserWarning: Incorrect value for Specific Character Set 'ISO_2022_IR_6' - assuming 'ISO 2022 IR 6'\n",
            "  _warn_about_invalid_encoding(encoding, patched)\n"
          ]
        },
        {
          "name": "stdout",
          "output_type": "stream",
          "text": [
            "Epoch [27/100] - Train IoU: 0.9553 - Validation IoU: 0.8637\n"
          ]
        },
        {
          "name": "stderr",
          "output_type": "stream",
          "text": [
            "/home/ealam/MDCL/lib/python3.10/site-packages/pydicom/charset.py:743: UserWarning: Incorrect value for Specific Character Set 'ISO_2022_IR_6' - assuming 'ISO 2022 IR 6'\n",
            "  _warn_about_invalid_encoding(encoding, patched)\n"
          ]
        },
        {
          "name": "stdout",
          "output_type": "stream",
          "text": [
            "Epoch [28/100] - Train IoU: 0.9582 - Validation IoU: 0.8622\n"
          ]
        },
        {
          "name": "stderr",
          "output_type": "stream",
          "text": [
            "/home/ealam/MDCL/lib/python3.10/site-packages/pydicom/charset.py:743: UserWarning: Incorrect value for Specific Character Set 'ISO_2022_IR_6' - assuming 'ISO 2022 IR 6'\n",
            "  _warn_about_invalid_encoding(encoding, patched)\n"
          ]
        },
        {
          "name": "stdout",
          "output_type": "stream",
          "text": [
            "Epoch [29/100] - Train IoU: 0.9581 - Validation IoU: 0.8610\n"
          ]
        },
        {
          "name": "stderr",
          "output_type": "stream",
          "text": [
            "/home/ealam/MDCL/lib/python3.10/site-packages/pydicom/charset.py:743: UserWarning: Incorrect value for Specific Character Set 'ISO_2022_IR_6' - assuming 'ISO 2022 IR 6'\n",
            "  _warn_about_invalid_encoding(encoding, patched)\n"
          ]
        },
        {
          "name": "stdout",
          "output_type": "stream",
          "text": [
            "Epoch [30/100] - Train IoU: 0.9582 - Validation IoU: 0.8649\n"
          ]
        },
        {
          "name": "stderr",
          "output_type": "stream",
          "text": [
            "/home/ealam/MDCL/lib/python3.10/site-packages/pydicom/charset.py:743: UserWarning: Incorrect value for Specific Character Set 'ISO_2022_IR_6' - assuming 'ISO 2022 IR 6'\n",
            "  _warn_about_invalid_encoding(encoding, patched)\n"
          ]
        },
        {
          "name": "stdout",
          "output_type": "stream",
          "text": [
            "Epoch [31/100] - Train IoU: 0.9598 - Validation IoU: 0.8638\n"
          ]
        },
        {
          "name": "stderr",
          "output_type": "stream",
          "text": [
            "/home/ealam/MDCL/lib/python3.10/site-packages/pydicom/charset.py:743: UserWarning: Incorrect value for Specific Character Set 'ISO_2022_IR_6' - assuming 'ISO 2022 IR 6'\n",
            "  _warn_about_invalid_encoding(encoding, patched)\n"
          ]
        },
        {
          "name": "stdout",
          "output_type": "stream",
          "text": [
            "Epoch [32/100] - Train IoU: 0.9615 - Validation IoU: 0.8659\n"
          ]
        },
        {
          "name": "stderr",
          "output_type": "stream",
          "text": [
            "/home/ealam/MDCL/lib/python3.10/site-packages/pydicom/charset.py:743: UserWarning: Incorrect value for Specific Character Set 'ISO_2022_IR_6' - assuming 'ISO 2022 IR 6'\n",
            "  _warn_about_invalid_encoding(encoding, patched)\n"
          ]
        },
        {
          "name": "stdout",
          "output_type": "stream",
          "text": [
            "Epoch [33/100] - Train IoU: 0.9618 - Validation IoU: 0.8683\n"
          ]
        },
        {
          "name": "stderr",
          "output_type": "stream",
          "text": [
            "/home/ealam/MDCL/lib/python3.10/site-packages/pydicom/charset.py:743: UserWarning: Incorrect value for Specific Character Set 'ISO_2022_IR_6' - assuming 'ISO 2022 IR 6'\n",
            "  _warn_about_invalid_encoding(encoding, patched)\n"
          ]
        },
        {
          "name": "stdout",
          "output_type": "stream",
          "text": [
            "Epoch [34/100] - Train IoU: 0.9626 - Validation IoU: 0.8734\n"
          ]
        },
        {
          "name": "stderr",
          "output_type": "stream",
          "text": [
            "/home/ealam/MDCL/lib/python3.10/site-packages/pydicom/charset.py:743: UserWarning: Incorrect value for Specific Character Set 'ISO_2022_IR_6' - assuming 'ISO 2022 IR 6'\n",
            "  _warn_about_invalid_encoding(encoding, patched)\n"
          ]
        },
        {
          "name": "stdout",
          "output_type": "stream",
          "text": [
            "Epoch [35/100] - Train IoU: 0.9634 - Validation IoU: 0.8726\n"
          ]
        },
        {
          "name": "stderr",
          "output_type": "stream",
          "text": [
            "/home/ealam/MDCL/lib/python3.10/site-packages/pydicom/charset.py:743: UserWarning: Incorrect value for Specific Character Set 'ISO_2022_IR_6' - assuming 'ISO 2022 IR 6'\n",
            "  _warn_about_invalid_encoding(encoding, patched)\n"
          ]
        },
        {
          "name": "stdout",
          "output_type": "stream",
          "text": [
            "Epoch [36/100] - Train IoU: 0.9640 - Validation IoU: 0.8738\n"
          ]
        },
        {
          "name": "stderr",
          "output_type": "stream",
          "text": [
            "/home/ealam/MDCL/lib/python3.10/site-packages/pydicom/charset.py:743: UserWarning: Incorrect value for Specific Character Set 'ISO_2022_IR_6' - assuming 'ISO 2022 IR 6'\n",
            "  _warn_about_invalid_encoding(encoding, patched)\n"
          ]
        },
        {
          "name": "stdout",
          "output_type": "stream",
          "text": [
            "Epoch [37/100] - Train IoU: 0.9649 - Validation IoU: 0.8713\n"
          ]
        },
        {
          "name": "stderr",
          "output_type": "stream",
          "text": [
            "/home/ealam/MDCL/lib/python3.10/site-packages/pydicom/charset.py:743: UserWarning: Incorrect value for Specific Character Set 'ISO_2022_IR_6' - assuming 'ISO 2022 IR 6'\n",
            "  _warn_about_invalid_encoding(encoding, patched)\n"
          ]
        },
        {
          "name": "stdout",
          "output_type": "stream",
          "text": [
            "Epoch [38/100] - Train IoU: 0.9652 - Validation IoU: 0.8744\n"
          ]
        },
        {
          "name": "stderr",
          "output_type": "stream",
          "text": [
            "/home/ealam/MDCL/lib/python3.10/site-packages/pydicom/charset.py:743: UserWarning: Incorrect value for Specific Character Set 'ISO_2022_IR_6' - assuming 'ISO 2022 IR 6'\n",
            "  _warn_about_invalid_encoding(encoding, patched)\n"
          ]
        },
        {
          "name": "stdout",
          "output_type": "stream",
          "text": [
            "Epoch [39/100] - Train IoU: 0.9653 - Validation IoU: 0.8762\n"
          ]
        },
        {
          "name": "stderr",
          "output_type": "stream",
          "text": [
            "/home/ealam/MDCL/lib/python3.10/site-packages/pydicom/charset.py:743: UserWarning: Incorrect value for Specific Character Set 'ISO_2022_IR_6' - assuming 'ISO 2022 IR 6'\n",
            "  _warn_about_invalid_encoding(encoding, patched)\n"
          ]
        },
        {
          "name": "stdout",
          "output_type": "stream",
          "text": [
            "Epoch [40/100] - Train IoU: 0.9658 - Validation IoU: 0.8794\n"
          ]
        },
        {
          "name": "stderr",
          "output_type": "stream",
          "text": [
            "/home/ealam/MDCL/lib/python3.10/site-packages/pydicom/charset.py:743: UserWarning: Incorrect value for Specific Character Set 'ISO_2022_IR_6' - assuming 'ISO 2022 IR 6'\n",
            "  _warn_about_invalid_encoding(encoding, patched)\n"
          ]
        },
        {
          "name": "stdout",
          "output_type": "stream",
          "text": [
            "Epoch [41/100] - Train IoU: 0.9664 - Validation IoU: 0.8743\n"
          ]
        },
        {
          "name": "stderr",
          "output_type": "stream",
          "text": [
            "/home/ealam/MDCL/lib/python3.10/site-packages/pydicom/charset.py:743: UserWarning: Incorrect value for Specific Character Set 'ISO_2022_IR_6' - assuming 'ISO 2022 IR 6'\n",
            "  _warn_about_invalid_encoding(encoding, patched)\n"
          ]
        },
        {
          "name": "stdout",
          "output_type": "stream",
          "text": [
            "Epoch [42/100] - Train IoU: 0.9663 - Validation IoU: 0.8809\n"
          ]
        },
        {
          "name": "stderr",
          "output_type": "stream",
          "text": [
            "/home/ealam/MDCL/lib/python3.10/site-packages/pydicom/charset.py:743: UserWarning: Incorrect value for Specific Character Set 'ISO_2022_IR_6' - assuming 'ISO 2022 IR 6'\n",
            "  _warn_about_invalid_encoding(encoding, patched)\n"
          ]
        },
        {
          "name": "stdout",
          "output_type": "stream",
          "text": [
            "Epoch [43/100] - Train IoU: 0.9660 - Validation IoU: 0.8677\n"
          ]
        },
        {
          "name": "stderr",
          "output_type": "stream",
          "text": [
            "/home/ealam/MDCL/lib/python3.10/site-packages/pydicom/charset.py:743: UserWarning: Incorrect value for Specific Character Set 'ISO_2022_IR_6' - assuming 'ISO 2022 IR 6'\n",
            "  _warn_about_invalid_encoding(encoding, patched)\n"
          ]
        },
        {
          "name": "stdout",
          "output_type": "stream",
          "text": [
            "Epoch [44/100] - Train IoU: 0.9670 - Validation IoU: 0.8861\n"
          ]
        },
        {
          "name": "stderr",
          "output_type": "stream",
          "text": [
            "/home/ealam/MDCL/lib/python3.10/site-packages/pydicom/charset.py:743: UserWarning: Incorrect value for Specific Character Set 'ISO_2022_IR_6' - assuming 'ISO 2022 IR 6'\n",
            "  _warn_about_invalid_encoding(encoding, patched)\n"
          ]
        },
        {
          "name": "stdout",
          "output_type": "stream",
          "text": [
            "Epoch [45/100] - Train IoU: 0.9674 - Validation IoU: 0.8819\n"
          ]
        },
        {
          "name": "stderr",
          "output_type": "stream",
          "text": [
            "/home/ealam/MDCL/lib/python3.10/site-packages/pydicom/charset.py:743: UserWarning: Incorrect value for Specific Character Set 'ISO_2022_IR_6' - assuming 'ISO 2022 IR 6'\n",
            "  _warn_about_invalid_encoding(encoding, patched)\n"
          ]
        },
        {
          "name": "stdout",
          "output_type": "stream",
          "text": [
            "Epoch [46/100] - Train IoU: 0.9684 - Validation IoU: 0.8867\n"
          ]
        },
        {
          "name": "stderr",
          "output_type": "stream",
          "text": [
            "/home/ealam/MDCL/lib/python3.10/site-packages/pydicom/charset.py:743: UserWarning: Incorrect value for Specific Character Set 'ISO_2022_IR_6' - assuming 'ISO 2022 IR 6'\n",
            "  _warn_about_invalid_encoding(encoding, patched)\n"
          ]
        },
        {
          "name": "stdout",
          "output_type": "stream",
          "text": [
            "Epoch [47/100] - Train IoU: 0.9693 - Validation IoU: 0.8851\n"
          ]
        },
        {
          "name": "stderr",
          "output_type": "stream",
          "text": [
            "/home/ealam/MDCL/lib/python3.10/site-packages/pydicom/charset.py:743: UserWarning: Incorrect value for Specific Character Set 'ISO_2022_IR_6' - assuming 'ISO 2022 IR 6'\n",
            "  _warn_about_invalid_encoding(encoding, patched)\n"
          ]
        },
        {
          "name": "stdout",
          "output_type": "stream",
          "text": [
            "Epoch [48/100] - Train IoU: 0.9729 - Validation IoU: 0.8878\n"
          ]
        },
        {
          "name": "stderr",
          "output_type": "stream",
          "text": [
            "/home/ealam/MDCL/lib/python3.10/site-packages/pydicom/charset.py:743: UserWarning: Incorrect value for Specific Character Set 'ISO_2022_IR_6' - assuming 'ISO 2022 IR 6'\n",
            "  _warn_about_invalid_encoding(encoding, patched)\n"
          ]
        },
        {
          "name": "stdout",
          "output_type": "stream",
          "text": [
            "Epoch [49/100] - Train IoU: 0.9781 - Validation IoU: 0.8894\n"
          ]
        },
        {
          "name": "stderr",
          "output_type": "stream",
          "text": [
            "/home/ealam/MDCL/lib/python3.10/site-packages/pydicom/charset.py:743: UserWarning: Incorrect value for Specific Character Set 'ISO_2022_IR_6' - assuming 'ISO 2022 IR 6'\n",
            "  _warn_about_invalid_encoding(encoding, patched)\n"
          ]
        },
        {
          "name": "stdout",
          "output_type": "stream",
          "text": [
            "Epoch [50/100] - Train IoU: 0.9809 - Validation IoU: 0.8860\n"
          ]
        },
        {
          "name": "stderr",
          "output_type": "stream",
          "text": [
            "/home/ealam/MDCL/lib/python3.10/site-packages/pydicom/charset.py:743: UserWarning: Incorrect value for Specific Character Set 'ISO_2022_IR_6' - assuming 'ISO 2022 IR 6'\n",
            "  _warn_about_invalid_encoding(encoding, patched)\n"
          ]
        },
        {
          "name": "stdout",
          "output_type": "stream",
          "text": [
            "Epoch [51/100] - Train IoU: 0.9835 - Validation IoU: 0.8931\n"
          ]
        },
        {
          "name": "stderr",
          "output_type": "stream",
          "text": [
            "/home/ealam/MDCL/lib/python3.10/site-packages/pydicom/charset.py:743: UserWarning: Incorrect value for Specific Character Set 'ISO_2022_IR_6' - assuming 'ISO 2022 IR 6'\n",
            "  _warn_about_invalid_encoding(encoding, patched)\n"
          ]
        },
        {
          "name": "stdout",
          "output_type": "stream",
          "text": [
            "Epoch [52/100] - Train IoU: 0.9846 - Validation IoU: 0.8927\n"
          ]
        },
        {
          "name": "stderr",
          "output_type": "stream",
          "text": [
            "/home/ealam/MDCL/lib/python3.10/site-packages/pydicom/charset.py:743: UserWarning: Incorrect value for Specific Character Set 'ISO_2022_IR_6' - assuming 'ISO 2022 IR 6'\n",
            "  _warn_about_invalid_encoding(encoding, patched)\n"
          ]
        },
        {
          "name": "stdout",
          "output_type": "stream",
          "text": [
            "Epoch [53/100] - Train IoU: 0.9860 - Validation IoU: 0.8911\n"
          ]
        },
        {
          "name": "stderr",
          "output_type": "stream",
          "text": [
            "/home/ealam/MDCL/lib/python3.10/site-packages/pydicom/charset.py:743: UserWarning: Incorrect value for Specific Character Set 'ISO_2022_IR_6' - assuming 'ISO 2022 IR 6'\n",
            "  _warn_about_invalid_encoding(encoding, patched)\n"
          ]
        },
        {
          "name": "stdout",
          "output_type": "stream",
          "text": [
            "Epoch [54/100] - Train IoU: 0.9868 - Validation IoU: 0.8952\n"
          ]
        },
        {
          "name": "stderr",
          "output_type": "stream",
          "text": [
            "/home/ealam/MDCL/lib/python3.10/site-packages/pydicom/charset.py:743: UserWarning: Incorrect value for Specific Character Set 'ISO_2022_IR_6' - assuming 'ISO 2022 IR 6'\n",
            "  _warn_about_invalid_encoding(encoding, patched)\n"
          ]
        },
        {
          "name": "stdout",
          "output_type": "stream",
          "text": [
            "Epoch [55/100] - Train IoU: 0.9876 - Validation IoU: 0.8941\n"
          ]
        },
        {
          "name": "stderr",
          "output_type": "stream",
          "text": [
            "/home/ealam/MDCL/lib/python3.10/site-packages/pydicom/charset.py:743: UserWarning: Incorrect value for Specific Character Set 'ISO_2022_IR_6' - assuming 'ISO 2022 IR 6'\n",
            "  _warn_about_invalid_encoding(encoding, patched)\n"
          ]
        },
        {
          "name": "stdout",
          "output_type": "stream",
          "text": [
            "Epoch [56/100] - Train IoU: 0.9868 - Validation IoU: 0.8932\n"
          ]
        },
        {
          "name": "stderr",
          "output_type": "stream",
          "text": [
            "/home/ealam/MDCL/lib/python3.10/site-packages/pydicom/charset.py:743: UserWarning: Incorrect value for Specific Character Set 'ISO_2022_IR_6' - assuming 'ISO 2022 IR 6'\n",
            "  _warn_about_invalid_encoding(encoding, patched)\n"
          ]
        },
        {
          "name": "stdout",
          "output_type": "stream",
          "text": [
            "Epoch [57/100] - Train IoU: 0.9876 - Validation IoU: 0.8947\n"
          ]
        },
        {
          "name": "stderr",
          "output_type": "stream",
          "text": [
            "/home/ealam/MDCL/lib/python3.10/site-packages/pydicom/charset.py:743: UserWarning: Incorrect value for Specific Character Set 'ISO_2022_IR_6' - assuming 'ISO 2022 IR 6'\n",
            "  _warn_about_invalid_encoding(encoding, patched)\n"
          ]
        },
        {
          "name": "stdout",
          "output_type": "stream",
          "text": [
            "Epoch [58/100] - Train IoU: 0.9884 - Validation IoU: 0.8953\n"
          ]
        },
        {
          "name": "stderr",
          "output_type": "stream",
          "text": [
            "/home/ealam/MDCL/lib/python3.10/site-packages/pydicom/charset.py:743: UserWarning: Incorrect value for Specific Character Set 'ISO_2022_IR_6' - assuming 'ISO 2022 IR 6'\n",
            "  _warn_about_invalid_encoding(encoding, patched)\n"
          ]
        },
        {
          "name": "stdout",
          "output_type": "stream",
          "text": [
            "Epoch [59/100] - Train IoU: 0.9884 - Validation IoU: 0.8954\n"
          ]
        },
        {
          "name": "stderr",
          "output_type": "stream",
          "text": [
            "/home/ealam/MDCL/lib/python3.10/site-packages/pydicom/charset.py:743: UserWarning: Incorrect value for Specific Character Set 'ISO_2022_IR_6' - assuming 'ISO 2022 IR 6'\n",
            "  _warn_about_invalid_encoding(encoding, patched)\n"
          ]
        },
        {
          "name": "stdout",
          "output_type": "stream",
          "text": [
            "Epoch [60/100] - Train IoU: 0.9891 - Validation IoU: 0.8976\n"
          ]
        },
        {
          "name": "stderr",
          "output_type": "stream",
          "text": [
            "/home/ealam/MDCL/lib/python3.10/site-packages/pydicom/charset.py:743: UserWarning: Incorrect value for Specific Character Set 'ISO_2022_IR_6' - assuming 'ISO 2022 IR 6'\n",
            "  _warn_about_invalid_encoding(encoding, patched)\n"
          ]
        },
        {
          "name": "stdout",
          "output_type": "stream",
          "text": [
            "Epoch [61/100] - Train IoU: 0.9893 - Validation IoU: 0.9006\n"
          ]
        },
        {
          "name": "stderr",
          "output_type": "stream",
          "text": [
            "/home/ealam/MDCL/lib/python3.10/site-packages/pydicom/charset.py:743: UserWarning: Incorrect value for Specific Character Set 'ISO_2022_IR_6' - assuming 'ISO 2022 IR 6'\n",
            "  _warn_about_invalid_encoding(encoding, patched)\n"
          ]
        },
        {
          "name": "stdout",
          "output_type": "stream",
          "text": [
            "Epoch [62/100] - Train IoU: 0.9892 - Validation IoU: 0.8970\n"
          ]
        },
        {
          "name": "stderr",
          "output_type": "stream",
          "text": [
            "/home/ealam/MDCL/lib/python3.10/site-packages/pydicom/charset.py:743: UserWarning: Incorrect value for Specific Character Set 'ISO_2022_IR_6' - assuming 'ISO 2022 IR 6'\n",
            "  _warn_about_invalid_encoding(encoding, patched)\n"
          ]
        },
        {
          "name": "stdout",
          "output_type": "stream",
          "text": [
            "Epoch [63/100] - Train IoU: 0.9897 - Validation IoU: 0.8984\n"
          ]
        },
        {
          "name": "stderr",
          "output_type": "stream",
          "text": [
            "/home/ealam/MDCL/lib/python3.10/site-packages/pydicom/charset.py:743: UserWarning: Incorrect value for Specific Character Set 'ISO_2022_IR_6' - assuming 'ISO 2022 IR 6'\n",
            "  _warn_about_invalid_encoding(encoding, patched)\n"
          ]
        },
        {
          "name": "stdout",
          "output_type": "stream",
          "text": [
            "Epoch [64/100] - Train IoU: 0.9896 - Validation IoU: 0.8958\n"
          ]
        },
        {
          "name": "stderr",
          "output_type": "stream",
          "text": [
            "/home/ealam/MDCL/lib/python3.10/site-packages/pydicom/charset.py:743: UserWarning: Incorrect value for Specific Character Set 'ISO_2022_IR_6' - assuming 'ISO 2022 IR 6'\n",
            "  _warn_about_invalid_encoding(encoding, patched)\n"
          ]
        },
        {
          "name": "stdout",
          "output_type": "stream",
          "text": [
            "Epoch [65/100] - Train IoU: 0.9896 - Validation IoU: 0.8956\n"
          ]
        },
        {
          "name": "stderr",
          "output_type": "stream",
          "text": [
            "/home/ealam/MDCL/lib/python3.10/site-packages/pydicom/charset.py:743: UserWarning: Incorrect value for Specific Character Set 'ISO_2022_IR_6' - assuming 'ISO 2022 IR 6'\n",
            "  _warn_about_invalid_encoding(encoding, patched)\n"
          ]
        },
        {
          "name": "stdout",
          "output_type": "stream",
          "text": [
            "Epoch [66/100] - Train IoU: 0.9899 - Validation IoU: 0.8984\n"
          ]
        },
        {
          "name": "stderr",
          "output_type": "stream",
          "text": [
            "/home/ealam/MDCL/lib/python3.10/site-packages/pydicom/charset.py:743: UserWarning: Incorrect value for Specific Character Set 'ISO_2022_IR_6' - assuming 'ISO 2022 IR 6'\n",
            "  _warn_about_invalid_encoding(encoding, patched)\n"
          ]
        },
        {
          "name": "stdout",
          "output_type": "stream",
          "text": [
            "Epoch [67/100] - Train IoU: 0.9903 - Validation IoU: 0.8971\n"
          ]
        },
        {
          "name": "stderr",
          "output_type": "stream",
          "text": [
            "/home/ealam/MDCL/lib/python3.10/site-packages/pydicom/charset.py:743: UserWarning: Incorrect value for Specific Character Set 'ISO_2022_IR_6' - assuming 'ISO 2022 IR 6'\n",
            "  _warn_about_invalid_encoding(encoding, patched)\n"
          ]
        },
        {
          "name": "stdout",
          "output_type": "stream",
          "text": [
            "Epoch [68/100] - Train IoU: 0.9905 - Validation IoU: 0.8970\n"
          ]
        },
        {
          "name": "stderr",
          "output_type": "stream",
          "text": [
            "/home/ealam/MDCL/lib/python3.10/site-packages/pydicom/charset.py:743: UserWarning: Incorrect value for Specific Character Set 'ISO_2022_IR_6' - assuming 'ISO 2022 IR 6'\n",
            "  _warn_about_invalid_encoding(encoding, patched)\n"
          ]
        },
        {
          "name": "stdout",
          "output_type": "stream",
          "text": [
            "Epoch [69/100] - Train IoU: 0.9905 - Validation IoU: 0.9032\n"
          ]
        },
        {
          "name": "stderr",
          "output_type": "stream",
          "text": [
            "/home/ealam/MDCL/lib/python3.10/site-packages/pydicom/charset.py:743: UserWarning: Incorrect value for Specific Character Set 'ISO_2022_IR_6' - assuming 'ISO 2022 IR 6'\n",
            "  _warn_about_invalid_encoding(encoding, patched)\n"
          ]
        },
        {
          "name": "stdout",
          "output_type": "stream",
          "text": [
            "Epoch [70/100] - Train IoU: 0.9911 - Validation IoU: 0.9045\n"
          ]
        },
        {
          "name": "stderr",
          "output_type": "stream",
          "text": [
            "/home/ealam/MDCL/lib/python3.10/site-packages/pydicom/charset.py:743: UserWarning: Incorrect value for Specific Character Set 'ISO_2022_IR_6' - assuming 'ISO 2022 IR 6'\n",
            "  _warn_about_invalid_encoding(encoding, patched)\n"
          ]
        },
        {
          "name": "stdout",
          "output_type": "stream",
          "text": [
            "Epoch [71/100] - Train IoU: 0.9913 - Validation IoU: 0.9019\n"
          ]
        },
        {
          "name": "stderr",
          "output_type": "stream",
          "text": [
            "/home/ealam/MDCL/lib/python3.10/site-packages/pydicom/charset.py:743: UserWarning: Incorrect value for Specific Character Set 'ISO_2022_IR_6' - assuming 'ISO 2022 IR 6'\n",
            "  _warn_about_invalid_encoding(encoding, patched)\n"
          ]
        },
        {
          "name": "stdout",
          "output_type": "stream",
          "text": [
            "Epoch [72/100] - Train IoU: 0.9918 - Validation IoU: 0.9016\n"
          ]
        },
        {
          "name": "stderr",
          "output_type": "stream",
          "text": [
            "/home/ealam/MDCL/lib/python3.10/site-packages/pydicom/charset.py:743: UserWarning: Incorrect value for Specific Character Set 'ISO_2022_IR_6' - assuming 'ISO 2022 IR 6'\n",
            "  _warn_about_invalid_encoding(encoding, patched)\n"
          ]
        },
        {
          "name": "stdout",
          "output_type": "stream",
          "text": [
            "Epoch [73/100] - Train IoU: 0.9922 - Validation IoU: 0.9062\n"
          ]
        },
        {
          "name": "stderr",
          "output_type": "stream",
          "text": [
            "/home/ealam/MDCL/lib/python3.10/site-packages/pydicom/charset.py:743: UserWarning: Incorrect value for Specific Character Set 'ISO_2022_IR_6' - assuming 'ISO 2022 IR 6'\n",
            "  _warn_about_invalid_encoding(encoding, patched)\n"
          ]
        },
        {
          "name": "stdout",
          "output_type": "stream",
          "text": [
            "Epoch [74/100] - Train IoU: 0.9923 - Validation IoU: 0.9029\n"
          ]
        },
        {
          "name": "stderr",
          "output_type": "stream",
          "text": [
            "/home/ealam/MDCL/lib/python3.10/site-packages/pydicom/charset.py:743: UserWarning: Incorrect value for Specific Character Set 'ISO_2022_IR_6' - assuming 'ISO 2022 IR 6'\n",
            "  _warn_about_invalid_encoding(encoding, patched)\n"
          ]
        },
        {
          "name": "stdout",
          "output_type": "stream",
          "text": [
            "Epoch [75/100] - Train IoU: 0.9921 - Validation IoU: 0.9019\n"
          ]
        },
        {
          "name": "stderr",
          "output_type": "stream",
          "text": [
            "/home/ealam/MDCL/lib/python3.10/site-packages/pydicom/charset.py:743: UserWarning: Incorrect value for Specific Character Set 'ISO_2022_IR_6' - assuming 'ISO 2022 IR 6'\n",
            "  _warn_about_invalid_encoding(encoding, patched)\n"
          ]
        },
        {
          "name": "stdout",
          "output_type": "stream",
          "text": [
            "Epoch [76/100] - Train IoU: 0.9921 - Validation IoU: 0.9067\n"
          ]
        },
        {
          "name": "stderr",
          "output_type": "stream",
          "text": [
            "/home/ealam/MDCL/lib/python3.10/site-packages/pydicom/charset.py:743: UserWarning: Incorrect value for Specific Character Set 'ISO_2022_IR_6' - assuming 'ISO 2022 IR 6'\n",
            "  _warn_about_invalid_encoding(encoding, patched)\n"
          ]
        },
        {
          "name": "stdout",
          "output_type": "stream",
          "text": [
            "Epoch [77/100] - Train IoU: 0.9921 - Validation IoU: 0.9043\n"
          ]
        },
        {
          "name": "stderr",
          "output_type": "stream",
          "text": [
            "/home/ealam/MDCL/lib/python3.10/site-packages/pydicom/charset.py:743: UserWarning: Incorrect value for Specific Character Set 'ISO_2022_IR_6' - assuming 'ISO 2022 IR 6'\n",
            "  _warn_about_invalid_encoding(encoding, patched)\n"
          ]
        },
        {
          "name": "stdout",
          "output_type": "stream",
          "text": [
            "Epoch [78/100] - Train IoU: 0.9921 - Validation IoU: 0.9052\n"
          ]
        },
        {
          "name": "stderr",
          "output_type": "stream",
          "text": [
            "/home/ealam/MDCL/lib/python3.10/site-packages/pydicom/charset.py:743: UserWarning: Incorrect value for Specific Character Set 'ISO_2022_IR_6' - assuming 'ISO 2022 IR 6'\n",
            "  _warn_about_invalid_encoding(encoding, patched)\n"
          ]
        },
        {
          "name": "stdout",
          "output_type": "stream",
          "text": [
            "Epoch [79/100] - Train IoU: 0.9920 - Validation IoU: 0.9017\n"
          ]
        },
        {
          "name": "stderr",
          "output_type": "stream",
          "text": [
            "/home/ealam/MDCL/lib/python3.10/site-packages/pydicom/charset.py:743: UserWarning: Incorrect value for Specific Character Set 'ISO_2022_IR_6' - assuming 'ISO 2022 IR 6'\n",
            "  _warn_about_invalid_encoding(encoding, patched)\n"
          ]
        },
        {
          "name": "stdout",
          "output_type": "stream",
          "text": [
            "Epoch [80/100] - Train IoU: 0.9925 - Validation IoU: 0.9000\n"
          ]
        },
        {
          "name": "stderr",
          "output_type": "stream",
          "text": [
            "/home/ealam/MDCL/lib/python3.10/site-packages/pydicom/charset.py:743: UserWarning: Incorrect value for Specific Character Set 'ISO_2022_IR_6' - assuming 'ISO 2022 IR 6'\n",
            "  _warn_about_invalid_encoding(encoding, patched)\n"
          ]
        },
        {
          "name": "stdout",
          "output_type": "stream",
          "text": [
            "Epoch [81/100] - Train IoU: 0.9923 - Validation IoU: 0.9053\n"
          ]
        },
        {
          "name": "stderr",
          "output_type": "stream",
          "text": [
            "/home/ealam/MDCL/lib/python3.10/site-packages/pydicom/charset.py:743: UserWarning: Incorrect value for Specific Character Set 'ISO_2022_IR_6' - assuming 'ISO 2022 IR 6'\n",
            "  _warn_about_invalid_encoding(encoding, patched)\n"
          ]
        },
        {
          "name": "stdout",
          "output_type": "stream",
          "text": [
            "Epoch [82/100] - Train IoU: 0.9921 - Validation IoU: 0.9054\n"
          ]
        },
        {
          "name": "stderr",
          "output_type": "stream",
          "text": [
            "/home/ealam/MDCL/lib/python3.10/site-packages/pydicom/charset.py:743: UserWarning: Incorrect value for Specific Character Set 'ISO_2022_IR_6' - assuming 'ISO 2022 IR 6'\n",
            "  _warn_about_invalid_encoding(encoding, patched)\n"
          ]
        },
        {
          "name": "stdout",
          "output_type": "stream",
          "text": [
            "Epoch [83/100] - Train IoU: 0.9924 - Validation IoU: 0.9004\n"
          ]
        },
        {
          "name": "stderr",
          "output_type": "stream",
          "text": [
            "/home/ealam/MDCL/lib/python3.10/site-packages/pydicom/charset.py:743: UserWarning: Incorrect value for Specific Character Set 'ISO_2022_IR_6' - assuming 'ISO 2022 IR 6'\n",
            "  _warn_about_invalid_encoding(encoding, patched)\n"
          ]
        },
        {
          "name": "stdout",
          "output_type": "stream",
          "text": [
            "Epoch [84/100] - Train IoU: 0.9924 - Validation IoU: 0.9027\n"
          ]
        },
        {
          "name": "stderr",
          "output_type": "stream",
          "text": [
            "/home/ealam/MDCL/lib/python3.10/site-packages/pydicom/charset.py:743: UserWarning: Incorrect value for Specific Character Set 'ISO_2022_IR_6' - assuming 'ISO 2022 IR 6'\n",
            "  _warn_about_invalid_encoding(encoding, patched)\n"
          ]
        },
        {
          "name": "stdout",
          "output_type": "stream",
          "text": [
            "Epoch [85/100] - Train IoU: 0.9933 - Validation IoU: 0.9055\n"
          ]
        },
        {
          "name": "stderr",
          "output_type": "stream",
          "text": [
            "/home/ealam/MDCL/lib/python3.10/site-packages/pydicom/charset.py:743: UserWarning: Incorrect value for Specific Character Set 'ISO_2022_IR_6' - assuming 'ISO 2022 IR 6'\n",
            "  _warn_about_invalid_encoding(encoding, patched)\n"
          ]
        },
        {
          "name": "stdout",
          "output_type": "stream",
          "text": [
            "Epoch [86/100] - Train IoU: 0.9932 - Validation IoU: 0.9025\n"
          ]
        },
        {
          "name": "stderr",
          "output_type": "stream",
          "text": [
            "/home/ealam/MDCL/lib/python3.10/site-packages/pydicom/charset.py:743: UserWarning: Incorrect value for Specific Character Set 'ISO_2022_IR_6' - assuming 'ISO 2022 IR 6'\n",
            "  _warn_about_invalid_encoding(encoding, patched)\n"
          ]
        },
        {
          "name": "stdout",
          "output_type": "stream",
          "text": [
            "Epoch [87/100] - Train IoU: 0.9934 - Validation IoU: 0.9071\n"
          ]
        },
        {
          "name": "stderr",
          "output_type": "stream",
          "text": [
            "/home/ealam/MDCL/lib/python3.10/site-packages/pydicom/charset.py:743: UserWarning: Incorrect value for Specific Character Set 'ISO_2022_IR_6' - assuming 'ISO 2022 IR 6'\n",
            "  _warn_about_invalid_encoding(encoding, patched)\n"
          ]
        },
        {
          "name": "stdout",
          "output_type": "stream",
          "text": [
            "Epoch [88/100] - Train IoU: 0.9933 - Validation IoU: 0.9054\n"
          ]
        },
        {
          "name": "stderr",
          "output_type": "stream",
          "text": [
            "/home/ealam/MDCL/lib/python3.10/site-packages/pydicom/charset.py:743: UserWarning: Incorrect value for Specific Character Set 'ISO_2022_IR_6' - assuming 'ISO 2022 IR 6'\n",
            "  _warn_about_invalid_encoding(encoding, patched)\n"
          ]
        },
        {
          "name": "stdout",
          "output_type": "stream",
          "text": [
            "Epoch [89/100] - Train IoU: 0.9930 - Validation IoU: 0.9020\n"
          ]
        },
        {
          "name": "stderr",
          "output_type": "stream",
          "text": [
            "/home/ealam/MDCL/lib/python3.10/site-packages/pydicom/charset.py:743: UserWarning: Incorrect value for Specific Character Set 'ISO_2022_IR_6' - assuming 'ISO 2022 IR 6'\n",
            "  _warn_about_invalid_encoding(encoding, patched)\n"
          ]
        },
        {
          "name": "stdout",
          "output_type": "stream",
          "text": [
            "Epoch [90/100] - Train IoU: 0.9930 - Validation IoU: 0.9079\n"
          ]
        },
        {
          "name": "stderr",
          "output_type": "stream",
          "text": [
            "/home/ealam/MDCL/lib/python3.10/site-packages/pydicom/charset.py:743: UserWarning: Incorrect value for Specific Character Set 'ISO_2022_IR_6' - assuming 'ISO 2022 IR 6'\n",
            "  _warn_about_invalid_encoding(encoding, patched)\n"
          ]
        },
        {
          "name": "stdout",
          "output_type": "stream",
          "text": [
            "Epoch [91/100] - Train IoU: 0.9936 - Validation IoU: 0.9098\n"
          ]
        },
        {
          "name": "stderr",
          "output_type": "stream",
          "text": [
            "/home/ealam/MDCL/lib/python3.10/site-packages/pydicom/charset.py:743: UserWarning: Incorrect value for Specific Character Set 'ISO_2022_IR_6' - assuming 'ISO 2022 IR 6'\n",
            "  _warn_about_invalid_encoding(encoding, patched)\n"
          ]
        },
        {
          "name": "stdout",
          "output_type": "stream",
          "text": [
            "Epoch [92/100] - Train IoU: 0.9936 - Validation IoU: 0.8987\n"
          ]
        },
        {
          "name": "stderr",
          "output_type": "stream",
          "text": [
            "/home/ealam/MDCL/lib/python3.10/site-packages/pydicom/charset.py:743: UserWarning: Incorrect value for Specific Character Set 'ISO_2022_IR_6' - assuming 'ISO 2022 IR 6'\n",
            "  _warn_about_invalid_encoding(encoding, patched)\n"
          ]
        },
        {
          "name": "stdout",
          "output_type": "stream",
          "text": [
            "Epoch [93/100] - Train IoU: 0.9937 - Validation IoU: 0.9106\n"
          ]
        },
        {
          "name": "stderr",
          "output_type": "stream",
          "text": [
            "/home/ealam/MDCL/lib/python3.10/site-packages/pydicom/charset.py:743: UserWarning: Incorrect value for Specific Character Set 'ISO_2022_IR_6' - assuming 'ISO 2022 IR 6'\n",
            "  _warn_about_invalid_encoding(encoding, patched)\n"
          ]
        },
        {
          "name": "stdout",
          "output_type": "stream",
          "text": [
            "Epoch [94/100] - Train IoU: 0.9939 - Validation IoU: 0.9086\n"
          ]
        },
        {
          "name": "stderr",
          "output_type": "stream",
          "text": [
            "/home/ealam/MDCL/lib/python3.10/site-packages/pydicom/charset.py:743: UserWarning: Incorrect value for Specific Character Set 'ISO_2022_IR_6' - assuming 'ISO 2022 IR 6'\n",
            "  _warn_about_invalid_encoding(encoding, patched)\n"
          ]
        },
        {
          "name": "stdout",
          "output_type": "stream",
          "text": [
            "Epoch [95/100] - Train IoU: 0.9941 - Validation IoU: 0.9068\n"
          ]
        },
        {
          "name": "stderr",
          "output_type": "stream",
          "text": [
            "/home/ealam/MDCL/lib/python3.10/site-packages/pydicom/charset.py:743: UserWarning: Incorrect value for Specific Character Set 'ISO_2022_IR_6' - assuming 'ISO 2022 IR 6'\n",
            "  _warn_about_invalid_encoding(encoding, patched)\n"
          ]
        },
        {
          "name": "stdout",
          "output_type": "stream",
          "text": [
            "Epoch [96/100] - Train IoU: 0.9945 - Validation IoU: 0.9072\n"
          ]
        },
        {
          "name": "stderr",
          "output_type": "stream",
          "text": [
            "/home/ealam/MDCL/lib/python3.10/site-packages/pydicom/charset.py:743: UserWarning: Incorrect value for Specific Character Set 'ISO_2022_IR_6' - assuming 'ISO 2022 IR 6'\n",
            "  _warn_about_invalid_encoding(encoding, patched)\n"
          ]
        },
        {
          "name": "stdout",
          "output_type": "stream",
          "text": [
            "Epoch [97/100] - Train IoU: 0.9943 - Validation IoU: 0.9085\n"
          ]
        },
        {
          "name": "stderr",
          "output_type": "stream",
          "text": [
            "/home/ealam/MDCL/lib/python3.10/site-packages/pydicom/charset.py:743: UserWarning: Incorrect value for Specific Character Set 'ISO_2022_IR_6' - assuming 'ISO 2022 IR 6'\n",
            "  _warn_about_invalid_encoding(encoding, patched)\n"
          ]
        },
        {
          "name": "stdout",
          "output_type": "stream",
          "text": [
            "Epoch [98/100] - Train IoU: 0.9943 - Validation IoU: 0.9024\n"
          ]
        },
        {
          "name": "stderr",
          "output_type": "stream",
          "text": [
            "/home/ealam/MDCL/lib/python3.10/site-packages/pydicom/charset.py:743: UserWarning: Incorrect value for Specific Character Set 'ISO_2022_IR_6' - assuming 'ISO 2022 IR 6'\n",
            "  _warn_about_invalid_encoding(encoding, patched)\n"
          ]
        },
        {
          "name": "stdout",
          "output_type": "stream",
          "text": [
            "Epoch [99/100] - Train IoU: 0.9943 - Validation IoU: 0.9073\n"
          ]
        },
        {
          "name": "stderr",
          "output_type": "stream",
          "text": [
            "/home/ealam/MDCL/lib/python3.10/site-packages/pydicom/charset.py:743: UserWarning: Incorrect value for Specific Character Set 'ISO_2022_IR_6' - assuming 'ISO 2022 IR 6'\n",
            "  _warn_about_invalid_encoding(encoding, patched)\n"
          ]
        },
        {
          "name": "stdout",
          "output_type": "stream",
          "text": [
            "Epoch [100/100] - Train IoU: 0.9941 - Validation IoU: 0.9064\n"
          ]
        }
      ],
      "source": [
        "\n",
        "import os\n",
        "import numpy as np\n",
        "import pydicom\n",
        "import nibabel as nib\n",
        "import torch\n",
        "from torch.utils.data import DataLoader, Dataset\n",
        "import albumentations as A\n",
        "from albumentations.pytorch import ToTensorV2\n",
        "import cv2\n",
        "import pandas as pd\n",
        "import random\n",
        "import segmentation_models_pytorch as smp\n",
        "import torch.optim as optim\n",
        "import torch.nn as nn\n",
        "from scipy.ndimage import zoom\n",
        "from operator import itemgetter\n",
        "from sklearn.metrics import jaccard_score\n",
        "\n",
        "random.seed(42)\n",
        "np.random.seed(42)\n",
        "torch.manual_seed(42)\n",
        "torch.cuda.manual_seed(42)\n",
        "\n",
        "num_classes = 9\n",
        "batch_size = 8\n",
        "img_root = \"/home/ealam/JHIR_Hip_Knee_Datasets/Knee/Images\"\n",
        "mask_root = \"/home/ealam/JHIR_Hip_Knee_Datasets/Knee/Annotations\"\n",
        "metadata_path = \"/home/ealam/JHIR_Hip_Knee_Datasets/Knee/segmentation_with_racegender.csv\"\n",
        "test_augmentations = A.Compose([\n",
        "    A.Resize(height=256, width=256),\n",
        "    A.Normalize(mean=(0.485,), std=(0.229,)),\n",
        "    ToTensorV2(),\n",
        "])\n",
        "\n",
        "class MulticlassHipSegmentationDataset(Dataset):\n",
        "    def __init__(self, img_root, mask_root, metadata_df, paired_files, num_classes, transforms=None, preprocessing=None):\n",
        "        self.img_root = img_root\n",
        "        self.mask_root = mask_root\n",
        "        self.metadata_df = metadata_df\n",
        "        self.paired_files = paired_files\n",
        "        self.num_classes = num_classes\n",
        "        self.transforms = transforms\n",
        "        self.preprocessing = preprocessing\n",
        "        self.used_pairs = set()\n",
        "\n",
        "    def __len__(self):\n",
        "        return len(self.paired_files)\n",
        "\n",
        "    def __getitem__(self, idx):\n",
        "        image_file, mask_file = self.paired_files[idx]\n",
        "        if not os.path.exists(os.path.join(self.mask_root, mask_file)):\n",
        "            return None, None, None\n",
        "\n",
        "        dicom_image = pydicom.dcmread(os.path.join(self.img_root, image_file))\n",
        "        image = dicom_image.pixel_array.astype(np.float32)\n",
        "        annotation = nib.load(os.path.join(self.mask_root, mask_file))\n",
        "        annotation_data = annotation.get_fdata()\n",
        "        if len(annotation_data.shape) == 3:\n",
        "            annotation_data = annotation_data[:, :, 0]\n",
        "\n",
        "        annotation_data = self.calculate_flipped_rotated_mask(annotation_data)\n",
        "\n",
        "        if annotation_data.ndim > 2 and annotation_data.shape[-1] != 1:\n",
        "            raise ValueError('Mask has multiple channels')\n",
        "\n",
        "        if image.shape != annotation_data.shape:\n",
        "            zoom_factors = np.array(image.shape) / np.array(annotation_data.shape)\n",
        "            annotation_data = zoom(annotation_data, zoom_factors, order=0)\n",
        "\n",
        "        if self.transforms is not None:\n",
        "            transformed = self.transforms(image=image, mask=annotation_data)\n",
        "            image = transformed[\"image\"]\n",
        "            annotation_data = transformed[\"mask\"]\n",
        "\n",
        "        annotation_data_onehot = self.one_hot_encode(annotation_data)\n",
        "\n",
        "        if self.preprocessing is not None:\n",
        "            transformed = self.preprocessing(image=image, mask=annotation_data_onehot)\n",
        "            image = transformed[\"image\"]\n",
        "            annotation_data_onehot = transformed[\"mask\"]\n",
        "\n",
        "        patient_id = int(float(image_file.split(\".\")[0]))\n",
        "        racegender_info = self.metadata_df.loc[self.metadata_df['id'] == patient_id]['racegender'].values\n",
        "        racegender = racegender_info[0] if racegender_info and racegender_info[0] in racegenders else None\n",
        "\n",
        "        return image, annotation_data_onehot, racegender\n",
        "\n",
        "    def one_hot_encode(self, mask):\n",
        "        one_hot_mask = np.zeros((self.num_classes, *mask.shape), dtype=np.float32)\n",
        "        for class_idx in range(self.num_classes):\n",
        "            one_hot_mask[class_idx][mask == class_idx] = 1.0\n",
        "        return one_hot_mask\n",
        "\n",
        "    def calculate_flipped_rotated_mask(self, mask):\n",
        "        rotated_mask = cv2.rotate(mask, cv2.ROTATE_90_CLOCKWISE)\n",
        "        flipped_rotated_mask = cv2.flip(rotated_mask, 1)\n",
        "        return flipped_rotated_mask\n",
        "\n",
        "metadata_df = pd.read_csv(metadata_path)\n",
        "\n",
        "image_files = sorted(os.listdir(img_root))\n",
        "mask_files = sorted(os.listdir(mask_root))\n",
        "\n",
        "paired_files = []\n",
        "\n",
        "for image_file in image_files:\n",
        "    image_id = os.path.splitext(image_file)[0]\n",
        "    mask_file = f\"{image_id}.nii.gz\"\n",
        "    if mask_file in mask_files:\n",
        "        paired_files.append((image_file, mask_file))\n",
        "\n",
        "random.shuffle(paired_files)\n",
        "\n",
        "train_size = int(0.7 * len(paired_files))\n",
        "valid_size = int(0.1 * len(paired_files))\n",
        "test_size = len(paired_files) - train_size - valid_size\n",
        "\n",
        "train_pairs = paired_files[:train_size]\n",
        "valid_pairs = paired_files[train_size:train_size + valid_size]\n",
        "test_pairs = paired_files[train_size + valid_size:]\n",
        "\n",
        "train_set = MulticlassHipSegmentationDataset(\n",
        "    img_root, mask_root, metadata_df, train_pairs, num_classes,\n",
        "    transforms=test_augmentations\n",
        ")\n",
        "\n",
        "model = smp.Unet(\n",
        "    encoder_name=\"resnet18\",\n",
        "    encoder_weights=\"imagenet\",\n",
        "    in_channels=1,\n",
        "    classes=num_classes,\n",
        ")\n",
        "\n",
        "device = torch.device(\"cuda\" if torch.cuda.is_available() else \"cpu\")\n",
        "model.to(device)\n",
        "\n",
        "optimizer = optim.Adam(model.parameters(), lr=0.0001, weight_decay=1e-5)\n",
        "criterion = nn.CrossEntropyLoss()\n",
        "\n",
        "valid_set = MulticlassHipSegmentationDataset(\n",
        "    img_root, mask_root, metadata_df, valid_pairs, num_classes,\n",
        "    transforms=test_augmentations\n",
        ")\n",
        "\n",
        "valid_loader = DataLoader(valid_set, batch_size=batch_size, shuffle=False, num_workers=2)\n",
        "\n",
        "num_epochs = 100\n",
        "\n",
        "racegenders = metadata_df['racegender'].unique()\n",
        "\n",
        "# list to store indices of each racegender\n",
        "racegender_data_indices = {racegender: [] for racegender in racegenders}\n",
        "\n",
        "# Populate the list with indices of paired_files belonging to each racegender\n",
        "for idx, (_, _, racegender) in enumerate(train_set):\n",
        "    if racegender in racegenders:\n",
        "        racegender_data_indices[racegender].append(idx)\n",
        "\n",
        "# list to store the interleaved indices\n",
        "interleaved_indices = []\n",
        "\n",
        "# Interleave indices based on racegenders\n",
        "for _ in range(len(train_set) // len(racegenders)):\n",
        "    for racegender in racegenders:\n",
        "        interleaved_indices.extend(racegender_data_indices[racegender])\n",
        "\n",
        "# sampler using interleaved indices\n",
        "sampler = torch.utils.data.sampler.SubsetRandomSampler(interleaved_indices)\n",
        "\n",
        "for epoch in range(num_epochs):\n",
        "    # custom sampler for DataLoader to achieve the racegender pattern\n",
        "    train_loader = DataLoader(\n",
        "        train_set,\n",
        "        batch_size=batch_size,\n",
        "        sampler=sampler,\n",
        "        num_workers=2\n",
        "    )\n",
        "\n",
        "    model.train()\n",
        "\n",
        "    epoch_iou_list = []\n",
        "\n",
        "    for batch_idx, (images, masks, _) in enumerate(train_loader):\n",
        "        if images is None:\n",
        "            continue\n",
        "\n",
        "        images, masks = images.to(device), masks.to(device)\n",
        "        optimizer.zero_grad()\n",
        "        outputs = model(images)\n",
        "        loss = criterion(outputs, masks.argmax(dim=1))\n",
        "        loss.backward()\n",
        "        optimizer.step()\n",
        "\n",
        "\n",
        "        predicted_masks = torch.argmax(outputs, dim=1)\n",
        "        batch_iou = jaccard_score(\n",
        "            masks.argmax(dim=1).cpu().numpy().flatten(),\n",
        "            predicted_masks.cpu().numpy().flatten(),\n",
        "            average='micro'\n",
        "        )\n",
        "        epoch_iou_list.append(batch_iou)\n",
        "\n",
        "\n",
        "    epoch_iou_avg = np.mean(epoch_iou_list)\n",
        "\n",
        "    model.eval()\n",
        "    valid_iou_list = []\n",
        "\n",
        "    for batch_idx, (images, masks, racegender) in enumerate(valid_loader):\n",
        "        images, masks = images.to(device), masks.to(device)\n",
        "        with torch.no_grad():\n",
        "            outputs = model(images)\n",
        "        predicted_masks = torch.argmax(outputs, dim=1)\n",
        "\n",
        "        valid_iou = jaccard_score(\n",
        "            masks.argmax(dim=1).cpu().numpy().flatten(),\n",
        "            predicted_masks.cpu().numpy().flatten(),\n",
        "            average='micro'\n",
        "        )\n",
        "\n",
        "        valid_iou_list.append(valid_iou)\n",
        "\n",
        "    valid_iou_avg = np.mean(valid_iou_list)\n",
        "\n",
        "    print(f\"Epoch [{epoch + 1}/{num_epochs}] - Train IoU: {epoch_iou_avg:.4f} - Validation IoU: {valid_iou_avg:.4f}\")\n"
      ]
    }
  ],
  "metadata": {
    "kernelspec": {
      "display_name": "Python 3 (ipykernel)",
      "language": "python",
      "name": "python3"
    },
    "language_info": {
      "codemirror_mode": {
        "name": "ipython",
        "version": 3
      },
      "file_extension": ".py",
      "mimetype": "text/x-python",
      "name": "python",
      "nbconvert_exporter": "python",
      "pygments_lexer": "ipython3",
      "version": "3.10.12"
    },
    "colab": {
      "provenance": []
    }
  },
  "nbformat": 4,
  "nbformat_minor": 5
}